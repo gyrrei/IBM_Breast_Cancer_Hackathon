{
 "cells": [
  {
   "cell_type": "markdown",
   "metadata": {},
   "source": [
    "# AI@University - Preparation Material\n",
    "This preparation material aims to give you an intuition on the activities and skills needed during the upcoming workshop at your university. The center piece of this workshop will be a compact hacking competition, in which you solve a given customer case in small groups, using Machine Learning. This notebook illustrates the general approach to solving such a case study, and it is recommended to follow a similar structure during the hacking competition of the workshop.\n",
    "\n",
    "### Prerequisites\n",
    "Familiarity with the **Python 3** programming language, related libraries, such as **pandas**, **numpy** or **scikit-learn**, as well as **Jupyter Notebooks** are required. So before the workshop, please make sure that you have installed Python 3 and Juypter Notebooks, preferrably using the [Anaconda distribution](https://www.anaconda.com/download/#macos), as it already contains a set of useful Data Science libraries.\n",
    "\n",
    "**Note**:\n",
    "* When downloading this file to macOS, it automatically gets converted to a text file. To be able to open it as a Jupyter Notebook, select the file and press `command` + `i`. In the opening detail view, delte the file ending `.txt`\n",
    "\n",
    "# Case Study: Thomas J. Watson Hospital - Oncology Department\n",
    "You have been hired as a consulting team of Data Scientists by the oncology department of the **Thomas J. \n",
    "Watson Hospital** in **Berlin**.\n",
    "\n",
    "The oncology department is highly recognized and attracts patients from all over the world\n",
    "due to its exceptional and effective treatment methods.\n",
    "\n",
    "To maintain its excellent reputation and pioneer in the area of cancer treatment, the Thomas J. Watson hospital\n",
    "setup a new Technology Council with the goal to investigate future-oriented technologies to support its oncologists. Concretely, the Council agreed to target the identification of breast cancer in its early stages, which enables treating the disease more effectively.\n",
    "\n",
    "You have been engaged by the Technology Counsil to find a solution that assists the oncologists in classifying whether a breast tumor is \n",
    "**malignant** or **benign**.\n",
    "\n",
    "You should present your results to the hospital board coming Friday. Keep in mind to present your findings in a way\n",
    "that both business and technical stakeholders feel addressed.\n",
    "\n",
    "### Data\n",
    "This breast cancer databases was obtained from the University of Wisconsin Hospitals, Madison from Dr. William H. Wolberg:\n",
    "\n",
    "**Wisconsin Breast Cancer Database** (January 8, 1991), O. L. Mangasarian and W. H. Wolberg: \"Cancer diagnosis via linear programming\", SIAM News, Volume 23, Number 5, September 1990, pp 1 & 18, link: https://archive.ics.uci.edu/ml/machine-learning-databases/breast-cancer-wisconsin/\n",
    "\n",
    "### Data Dictionary\n",
    "All attributes, except the target value (`class`) are numeric and range from `1` to `10`.\n",
    "\n",
    "Attribute|Description\n",
    "---|---\n",
    "sample_code_number|ID number of sample\n",
    "clump_thickness|In the Clump thickness benign cells tend to be grouped in monolayers, while cancerous cells are often grouped in multilayer.\n",
    "uniformity_of_cell_size|While in the Uniformity of cell size/shape the cancer cells tend to vary in size and shape. That is why these parameters are valuable in determining whether the cells are cancerous or not. \n",
    "uniformity_of_cell_shape|see above\n",
    "marginal_adhesion|In the case of Marginal adhesion the normal cells tend to stick together, where cancer cells tend to lose this ability. So loss of adhesion is a sign of malignancy.\n",
    "single_epithelial_cell_size|In the Single epithelial cell size the size is related to the uniformity mentioned above. Epithelial cells that are significantly enlarged may be a malignant cell.\n",
    "bare_nuclei|The Bare nuclei is a term used for nuclei that is not surrounded by cytoplasm (the rest of the cell). Those are typically seen in benign tumors. \n",
    "bland_chromatin|The Bland Chromatin describes a uniform \"texture\" of the nucleus seen in benign cells. In cancer cells the chromatin tends to be coarser. \n",
    "normal_nucleoli|The Normal nucleoli are small structures seen in the nucleus. In normal cells the nucleolus is usually very small if visible. In cancer cells the nucleoli become more prominent, and sometimes there are more of them. \n",
    "mitoses|Finally, Mitoses is nuclear division plus cytokines and produce two identical daughter cells during prophase. It is the process in which the cell divides and replicates. Pathologists can determine the grade of cancer by counting the number of mitoses\n",
    "class|Label: Benign=2, Malignant=4\n",
    "\n",
    "### Medical Background\n",
    "Breast cancer is the most common cancer among women and one of the major causes of death worldwide.\n",
    "Every year approximately 124 out of 100,000 women are diagnosed with breast cancer, and the estimation is that 23 out of the 124 women will die of this disease. When  detected  in  its  early  stages,  there  is  a  30%  chance that  the cancer can be treated effectively, but the late detection of advanced-stage tumors makes the treatment more difficult."
   ]
  },
  {
   "cell_type": "markdown",
   "metadata": {},
   "source": [
    "# Setup"
   ]
  },
  {
   "cell_type": "code",
   "execution_count": 2,
   "metadata": {
    "collapsed": true
   },
   "outputs": [],
   "source": [
    "from time import time\n",
    "from collections import Counter\n",
    "from pathlib import Path\n",
    "import pandas as pd\n",
    "import numpy as np\n",
    "from sklearn.svm import LinearSVC\n",
    "from sklearn.model_selection import train_test_split, ShuffleSplit, cross_validate\n",
    "import matplotlib.pyplot as plt\n",
    "import seaborn as sns\n",
    "%matplotlib inline\n",
    "import warnings\n",
    "warnings.filterwarnings('ignore')"
   ]
  },
  {
   "cell_type": "markdown",
   "metadata": {},
   "source": [
    "# Data\n",
    "Specify in which directory the input data is kept."
   ]
  },
  {
   "cell_type": "code",
   "execution_count": 3,
   "metadata": {
    "collapsed": true
   },
   "outputs": [],
   "source": [
    "data_directory = Path('../raw_data/challenge_data')"
   ]
  },
  {
   "cell_type": "markdown",
   "metadata": {},
   "source": [
    "## Training Data"
   ]
  },
  {
   "cell_type": "code",
   "execution_count": 4,
   "metadata": {
    "scrolled": true
   },
   "outputs": [
    {
     "name": "stdout",
     "output_type": "stream",
     "text": [
      "10 features and 559 training examples\n"
     ]
    },
    {
     "data": {
      "text/html": [
       "<div>\n",
       "<style>\n",
       "    .dataframe thead tr:only-child th {\n",
       "        text-align: right;\n",
       "    }\n",
       "\n",
       "    .dataframe thead th {\n",
       "        text-align: left;\n",
       "    }\n",
       "\n",
       "    .dataframe tbody tr th {\n",
       "        vertical-align: top;\n",
       "    }\n",
       "</style>\n",
       "<table border=\"1\" class=\"dataframe\">\n",
       "  <thead>\n",
       "    <tr style=\"text-align: right;\">\n",
       "      <th></th>\n",
       "      <th>sample_code_number</th>\n",
       "      <th>uniformity_of_cell_shape</th>\n",
       "      <th>uniformity_of_cell_size</th>\n",
       "      <th>clump_thickness</th>\n",
       "      <th>bare_nuclei</th>\n",
       "      <th>cell_size</th>\n",
       "      <th>normal_nucleoli</th>\n",
       "      <th>clump_cohesiveness</th>\n",
       "      <th>nuclear_chromatin</th>\n",
       "      <th>mitoses</th>\n",
       "      <th>class</th>\n",
       "    </tr>\n",
       "  </thead>\n",
       "  <tbody>\n",
       "    <tr>\n",
       "      <th>0</th>\n",
       "      <td>557583</td>\n",
       "      <td>5</td>\n",
       "      <td>10</td>\n",
       "      <td>10</td>\n",
       "      <td>10</td>\n",
       "      <td>10</td>\n",
       "      <td>10</td>\n",
       "      <td>10</td>\n",
       "      <td>1</td>\n",
       "      <td>1</td>\n",
       "      <td>4</td>\n",
       "    </tr>\n",
       "    <tr>\n",
       "      <th>1</th>\n",
       "      <td>1230688</td>\n",
       "      <td>7</td>\n",
       "      <td>4</td>\n",
       "      <td>7</td>\n",
       "      <td>4</td>\n",
       "      <td>3</td>\n",
       "      <td>7</td>\n",
       "      <td>7</td>\n",
       "      <td>6</td>\n",
       "      <td>1</td>\n",
       "      <td>4</td>\n",
       "    </tr>\n",
       "    <tr>\n",
       "      <th>2</th>\n",
       "      <td>787451</td>\n",
       "      <td>5</td>\n",
       "      <td>1</td>\n",
       "      <td>2</td>\n",
       "      <td>1</td>\n",
       "      <td>2</td>\n",
       "      <td>1</td>\n",
       "      <td>1</td>\n",
       "      <td>1</td>\n",
       "      <td>1</td>\n",
       "      <td>2</td>\n",
       "    </tr>\n",
       "    <tr>\n",
       "      <th>3</th>\n",
       "      <td>1238777</td>\n",
       "      <td>1</td>\n",
       "      <td>1</td>\n",
       "      <td>1</td>\n",
       "      <td>1</td>\n",
       "      <td>2</td>\n",
       "      <td>1</td>\n",
       "      <td>1</td>\n",
       "      <td>1</td>\n",
       "      <td>1</td>\n",
       "      <td>2</td>\n",
       "    </tr>\n",
       "    <tr>\n",
       "      <th>4</th>\n",
       "      <td>1371026</td>\n",
       "      <td>5</td>\n",
       "      <td>10</td>\n",
       "      <td>10</td>\n",
       "      <td>10</td>\n",
       "      <td>4</td>\n",
       "      <td>10</td>\n",
       "      <td>5</td>\n",
       "      <td>6</td>\n",
       "      <td>3</td>\n",
       "      <td>4</td>\n",
       "    </tr>\n",
       "  </tbody>\n",
       "</table>\n",
       "</div>"
      ],
      "text/plain": [
       "   sample_code_number  uniformity_of_cell_shape  uniformity_of_cell_size  \\\n",
       "0              557583                         5                       10   \n",
       "1             1230688                         7                        4   \n",
       "2              787451                         5                        1   \n",
       "3             1238777                         1                        1   \n",
       "4             1371026                         5                       10   \n",
       "\n",
       "   clump_thickness  bare_nuclei  cell_size normal_nucleoli  \\\n",
       "0               10           10         10              10   \n",
       "1                7            4          3               7   \n",
       "2                2            1          2               1   \n",
       "3                1            1          2               1   \n",
       "4               10           10          4              10   \n",
       "\n",
       "   clump_cohesiveness  nuclear_chromatin  mitoses  class  \n",
       "0                  10                  1        1      4  \n",
       "1                   7                  6        1      4  \n",
       "2                   1                  1        1      2  \n",
       "3                   1                  1        1      2  \n",
       "4                   5                  6        3      4  "
      ]
     },
     "execution_count": 4,
     "metadata": {},
     "output_type": "execute_result"
    }
   ],
   "source": [
    "data = pd.read_csv(data_directory / 'breast_cancer_train.csv')\n",
    "print(data.shape[1] - 1,'features and',data.shape[0],'training examples')\n",
    "data.head()"
   ]
  },
  {
   "cell_type": "markdown",
   "metadata": {},
   "source": [
    "## Validation Data\n",
    "As we can see, that validation data is missing values for the target value `class`, which should be predicted by our algorithm."
   ]
  },
  {
   "cell_type": "code",
   "execution_count": 5,
   "metadata": {},
   "outputs": [
    {
     "name": "stdout",
     "output_type": "stream",
     "text": [
      "10 features and 140 validation examples\n"
     ]
    },
    {
     "data": {
      "text/html": [
       "<div>\n",
       "<style>\n",
       "    .dataframe thead tr:only-child th {\n",
       "        text-align: right;\n",
       "    }\n",
       "\n",
       "    .dataframe thead th {\n",
       "        text-align: left;\n",
       "    }\n",
       "\n",
       "    .dataframe tbody tr th {\n",
       "        vertical-align: top;\n",
       "    }\n",
       "</style>\n",
       "<table border=\"1\" class=\"dataframe\">\n",
       "  <thead>\n",
       "    <tr style=\"text-align: right;\">\n",
       "      <th></th>\n",
       "      <th>sample_code_number</th>\n",
       "      <th>uniformity_of_cell_shape</th>\n",
       "      <th>uniformity_of_cell_size</th>\n",
       "      <th>clump_thickness</th>\n",
       "      <th>bare_nuclei</th>\n",
       "      <th>cell_size</th>\n",
       "      <th>normal_nucleoli</th>\n",
       "      <th>clump_cohesiveness</th>\n",
       "      <th>nuclear_chromatin</th>\n",
       "      <th>mitoses</th>\n",
       "      <th>class</th>\n",
       "    </tr>\n",
       "  </thead>\n",
       "  <tbody>\n",
       "    <tr>\n",
       "      <th>0</th>\n",
       "      <td>1056171</td>\n",
       "      <td>2</td>\n",
       "      <td>1</td>\n",
       "      <td>1</td>\n",
       "      <td>1</td>\n",
       "      <td>2</td>\n",
       "      <td>1</td>\n",
       "      <td>2</td>\n",
       "      <td>1</td>\n",
       "      <td>1</td>\n",
       "      <td>NaN</td>\n",
       "    </tr>\n",
       "    <tr>\n",
       "      <th>1</th>\n",
       "      <td>1179818</td>\n",
       "      <td>2</td>\n",
       "      <td>1</td>\n",
       "      <td>1</td>\n",
       "      <td>1</td>\n",
       "      <td>2</td>\n",
       "      <td>1</td>\n",
       "      <td>3</td>\n",
       "      <td>1</td>\n",
       "      <td>1</td>\n",
       "      <td>NaN</td>\n",
       "    </tr>\n",
       "    <tr>\n",
       "      <th>2</th>\n",
       "      <td>1334015</td>\n",
       "      <td>7</td>\n",
       "      <td>8</td>\n",
       "      <td>8</td>\n",
       "      <td>7</td>\n",
       "      <td>3</td>\n",
       "      <td>10</td>\n",
       "      <td>7</td>\n",
       "      <td>2</td>\n",
       "      <td>3</td>\n",
       "      <td>NaN</td>\n",
       "    </tr>\n",
       "    <tr>\n",
       "      <th>3</th>\n",
       "      <td>1287282</td>\n",
       "      <td>3</td>\n",
       "      <td>1</td>\n",
       "      <td>1</td>\n",
       "      <td>1</td>\n",
       "      <td>2</td>\n",
       "      <td>1</td>\n",
       "      <td>1</td>\n",
       "      <td>1</td>\n",
       "      <td>1</td>\n",
       "      <td>NaN</td>\n",
       "    </tr>\n",
       "    <tr>\n",
       "      <th>4</th>\n",
       "      <td>1265899</td>\n",
       "      <td>4</td>\n",
       "      <td>1</td>\n",
       "      <td>1</td>\n",
       "      <td>1</td>\n",
       "      <td>2</td>\n",
       "      <td>1</td>\n",
       "      <td>3</td>\n",
       "      <td>1</td>\n",
       "      <td>1</td>\n",
       "      <td>NaN</td>\n",
       "    </tr>\n",
       "  </tbody>\n",
       "</table>\n",
       "</div>"
      ],
      "text/plain": [
       "   sample_code_number  uniformity_of_cell_shape  uniformity_of_cell_size  \\\n",
       "0             1056171                         2                        1   \n",
       "1             1179818                         2                        1   \n",
       "2             1334015                         7                        8   \n",
       "3             1287282                         3                        1   \n",
       "4             1265899                         4                        1   \n",
       "\n",
       "   clump_thickness  bare_nuclei  cell_size normal_nucleoli  \\\n",
       "0                1            1          2               1   \n",
       "1                1            1          2               1   \n",
       "2                8            7          3              10   \n",
       "3                1            1          2               1   \n",
       "4                1            1          2               1   \n",
       "\n",
       "   clump_cohesiveness  nuclear_chromatin  mitoses  class  \n",
       "0                   2                  1        1    NaN  \n",
       "1                   3                  1        1    NaN  \n",
       "2                   7                  2        3    NaN  \n",
       "3                   1                  1        1    NaN  \n",
       "4                   3                  1        1    NaN  "
      ]
     },
     "execution_count": 5,
     "metadata": {},
     "output_type": "execute_result"
    }
   ],
   "source": [
    "data_validation = pd.read_csv(data_directory / 'breast_cancer_validation.csv')\n",
    "print(data.shape[1] - 1,'features and',data_validation.shape[0],'validation examples')\n",
    "data_validation.head()"
   ]
  },
  {
   "cell_type": "markdown",
   "metadata": {},
   "source": [
    "# Data Preparation"
   ]
  },
  {
   "cell_type": "markdown",
   "metadata": {},
   "source": [
    "Concatenate `data` and `validation data` in a list to process them simultaneously."
   ]
  },
  {
   "cell_type": "code",
   "execution_count": 6,
   "metadata": {
    "collapsed": true
   },
   "outputs": [],
   "source": [
    "data_preprocessor = [data, data_validation]"
   ]
  },
  {
   "cell_type": "markdown",
   "metadata": {},
   "source": [
    "## Feature Selection\n",
    "Drop features that do not hold any value for the analysis."
   ]
  },
  {
   "cell_type": "code",
   "execution_count": 7,
   "metadata": {
    "collapsed": true
   },
   "outputs": [],
   "source": [
    "for dataset in data_preprocessor:\n",
    "    dataset.drop('sample_code_number',axis=1,inplace=True)"
   ]
  },
  {
   "cell_type": "markdown",
   "metadata": {},
   "source": [
    "## Imputation\n",
    "Check whether the data contains any null / NaN values or if any values do not correspond to the anticipated datatypes."
   ]
  },
  {
   "cell_type": "code",
   "execution_count": 8,
   "metadata": {},
   "outputs": [
    {
     "data": {
      "text/plain": [
       "uniformity_of_cell_shape    0\n",
       "uniformity_of_cell_size     0\n",
       "clump_thickness             0\n",
       "bare_nuclei                 0\n",
       "cell_size                   0\n",
       "normal_nucleoli             0\n",
       "clump_cohesiveness          0\n",
       "nuclear_chromatin           0\n",
       "mitoses                     0\n",
       "class                       0\n",
       "dtype: int64"
      ]
     },
     "execution_count": 8,
     "metadata": {},
     "output_type": "execute_result"
    }
   ],
   "source": [
    "data.isnull().sum()"
   ]
  },
  {
   "cell_type": "code",
   "execution_count": 9,
   "metadata": {},
   "outputs": [
    {
     "data": {
      "text/plain": [
       "uniformity_of_cell_shape     int64\n",
       "uniformity_of_cell_size      int64\n",
       "clump_thickness              int64\n",
       "bare_nuclei                  int64\n",
       "cell_size                    int64\n",
       "normal_nucleoli             object\n",
       "clump_cohesiveness           int64\n",
       "nuclear_chromatin            int64\n",
       "mitoses                      int64\n",
       "class                        int64\n",
       "dtype: object"
      ]
     },
     "execution_count": 9,
     "metadata": {},
     "output_type": "execute_result"
    }
   ],
   "source": [
    "data.dtypes"
   ]
  },
  {
   "cell_type": "markdown",
   "metadata": {},
   "source": [
    "The feature column `normal_nucleoli` is of datatype `object`, although it should contain only digits. Let's check which non-digit values can be found in the dataframe using the `isdigit()` function of pandas."
   ]
  },
  {
   "cell_type": "code",
   "execution_count": 10,
   "metadata": {},
   "outputs": [
    {
     "data": {
      "text/html": [
       "<div>\n",
       "<style>\n",
       "    .dataframe thead tr:only-child th {\n",
       "        text-align: right;\n",
       "    }\n",
       "\n",
       "    .dataframe thead th {\n",
       "        text-align: left;\n",
       "    }\n",
       "\n",
       "    .dataframe tbody tr th {\n",
       "        vertical-align: top;\n",
       "    }\n",
       "</style>\n",
       "<table border=\"1\" class=\"dataframe\">\n",
       "  <thead>\n",
       "    <tr style=\"text-align: right;\">\n",
       "      <th></th>\n",
       "      <th>normal_nucleoli</th>\n",
       "    </tr>\n",
       "  </thead>\n",
       "  <tbody>\n",
       "    <tr>\n",
       "      <th>33</th>\n",
       "      <td>?</td>\n",
       "    </tr>\n",
       "    <tr>\n",
       "      <th>48</th>\n",
       "      <td>?</td>\n",
       "    </tr>\n",
       "    <tr>\n",
       "      <th>65</th>\n",
       "      <td>?</td>\n",
       "    </tr>\n",
       "    <tr>\n",
       "      <th>89</th>\n",
       "      <td>?</td>\n",
       "    </tr>\n",
       "    <tr>\n",
       "      <th>104</th>\n",
       "      <td>?</td>\n",
       "    </tr>\n",
       "  </tbody>\n",
       "</table>\n",
       "</div>"
      ],
      "text/plain": [
       "    normal_nucleoli\n",
       "33                ?\n",
       "48                ?\n",
       "65                ?\n",
       "89                ?\n",
       "104               ?"
      ]
     },
     "execution_count": 10,
     "metadata": {},
     "output_type": "execute_result"
    }
   ],
   "source": [
    "data[~data['normal_nucleoli'].str.isdigit()][['normal_nucleoli']].head()"
   ]
  },
  {
   "cell_type": "markdown",
   "metadata": {},
   "source": [
    "Subsequently, let's replace all non-digit values with the median value and make the column numerical."
   ]
  },
  {
   "cell_type": "code",
   "execution_count": 11,
   "metadata": {
    "collapsed": true
   },
   "outputs": [],
   "source": [
    "pattern = r'(\\D+)'\n",
    "replacement = str(int(data[data['normal_nucleoli'].str.isdigit()]['normal_nucleoli'].astype(int).median()))\n",
    "\n",
    "for dataset in data_preprocessor:\n",
    "    dataset['normal_nucleoli'] = dataset['normal_nucleoli'].str.replace(pat = pattern, repl = replacement).astype(int)"
   ]
  },
  {
   "cell_type": "markdown",
   "metadata": {},
   "source": [
    "Generally, in the data preparation phase, you should focus on **Correcting**, **Completing** and **Converting** your existing data, as well as considering **Creating** new data (*feature engineering*) which might improve your predictions."
   ]
  },
  {
   "cell_type": "markdown",
   "metadata": {},
   "source": [
    "# Data Exploration"
   ]
  },
  {
   "cell_type": "markdown",
   "metadata": {},
   "source": [
    "## Target Distribtion\n",
    "Check whether the target distribution is skewed."
   ]
  },
  {
   "cell_type": "code",
   "execution_count": 24,
   "metadata": {},
   "outputs": [
    {
     "data": {
      "text/plain": [
       "2    369\n",
       "4    190\n",
       "Name: class, dtype: int64"
      ]
     },
     "execution_count": 24,
     "metadata": {},
     "output_type": "execute_result"
    }
   ],
   "source": [
    "data['class'].value_counts()"
   ]
  },
  {
   "cell_type": "markdown",
   "metadata": {},
   "source": [
    "## Feature Correlations\n",
    "Check the correlation amongst the attributes to determine strong predictors amongst the features. This help to put the model's output into context and start further investigations to improve the performance."
   ]
  },
  {
   "cell_type": "code",
   "execution_count": 12,
   "metadata": {
    "collapsed": true
   },
   "outputs": [],
   "source": [
    "correlation_matrix = data.corr()"
   ]
  },
  {
   "cell_type": "code",
   "execution_count": 29,
   "metadata": {},
   "outputs": [
    {
     "data": {
      "image/png": "[encoded data removed]",
      "text/plain": [
       "<matplotlib.figure.Figure at 0x121cef2b0>"
      ]
     },
     "metadata": {},
     "output_type": "display_data"
    }
   ],
   "source": [
    "fig = plt.figure(figsize=(10, 7))\n",
    "ax = plt.axes()\n",
    "ax = sns.heatmap(correlation_matrix, mask=np.zeros_like(correlation_matrix, dtype=np.bool), cmap=\"Blues\", square=True, ax = ax)\n",
    "plt.show()"
   ]
  },
  {
   "cell_type": "markdown",
   "metadata": {},
   "source": [
    "# Modeling"
   ]
  },
  {
   "cell_type": "markdown",
   "metadata": {},
   "source": [
    "## Define Features and Target\n",
    "Specify for the training set which columns contain the features (`X`) and which column contains the target (`y`). Note, that for the validation set we only need to specify the feature columns (`X_validation`) we use for prediction, since the target is not know to us and has to be predicted by our model."
   ]
  },
  {
   "cell_type": "code",
   "execution_count": 15,
   "metadata": {
    "collapsed": true
   },
   "outputs": [],
   "source": [
    "X = data[data.columns[:-1]]\n",
    "y = data[data.columns[-1]]\n",
    "\n",
    "X_validation = data_validation[data_validation.columns[:-1]]"
   ]
  },
  {
   "cell_type": "markdown",
   "metadata": {},
   "source": [
    "## Model Selection\n",
    "Define a list of algorithm classes that should be investigated. For this example, we are only considering a Support Vector Machine with a linear kernel. Feel free to consider more algorithms by importing the respective module and adding the respective model class to the `algorithms` list."
   ]
  },
  {
   "cell_type": "code",
   "execution_count": 16,
   "metadata": {
    "collapsed": true
   },
   "outputs": [],
   "source": [
    "algorithms = [\n",
    "    LinearSVC()\n",
    "]"
   ]
  },
  {
   "cell_type": "code",
   "execution_count": 1,
   "metadata": {},
   "outputs": [],
   "source": [
    "def model_selection(X, y, algorithms, n_splits=10, test_size=.3, train_size=.6, random_state=0):\n",
    "    \"\"\"Select the most accurate machine learning model from a given list.\n",
    "\n",
    "    Parameters\n",
    "    ----------\n",
    "    X : array-like\n",
    "        dataFrame to fit\n",
    "    y : array-like\n",
    "        target variable to predict\n",
    "    algorithms : array-like\n",
    "        scikit-learn model objects\n",
    "    n_splits : int\n",
    "        number of re-shuffling & splitting iterations\n",
    "    test_size : float, int\n",
    "        proportion of the dataset to include in the test split\n",
    "    train_size : float, int\n",
    "        proportion of the dataset to include in the train split\n",
    "    random_state : int\n",
    "        random seed\n",
    "    \n",
    "    Returns\n",
    "    -------\n",
    "    algorithm_comparision : array-like\n",
    "        dataframe containing the algorithm's attributes and accuracy \n",
    "    \"\"\"\n",
    "    # Define the cross-validation split, leaving out 10%\n",
    "    cv_split = ShuffleSplit(n_splits=n_splits,test_size=test_size,\n",
    "                            train_size=train_size,random_state=random_state)\n",
    "    \n",
    "    # Create a table to compare the algorithm's metrics and predictions\n",
    "    columns = ['name','params','mean_train_accuracy','mean_test_accuracy','test_accuracy_3std' ,'time']\n",
    "    algorithm_comparison = pd.DataFrame(columns = columns)\n",
    "\n",
    "    row_index = 0\n",
    "    \n",
    "    for alg in algorithms:\n",
    "\n",
    "        # Set name and parameters of the algorithm\n",
    "        algorithm_name = alg.__class__.__name__\n",
    "        algorithm_comparison.loc[row_index, 'name'] = algorithm_name\n",
    "        algorithm_comparison.loc[row_index, 'params'] = str(alg.get_params())\n",
    "\n",
    "        # Score model with cross validation using the accuracy metric\n",
    "        cv_results = cross_validate(alg, X, y, cv=cv_split, scoring='accuracy', return_train_score=True)\n",
    "        algorithm_comparison.loc[row_index, 'time'] = cv_results['fit_time'].mean()\n",
    "        algorithm_comparison.loc[row_index, 'mean_train_accuracy'] = cv_results['train_score'].mean()\n",
    "        algorithm_comparison.loc[row_index, 'mean_test_accuracy'] = cv_results['test_score'].mean()  \n",
    "        algorithm_comparison.loc[row_index, 'test_accuracy_3std'] = cv_results['test_score'].std()*3\n",
    "\n",
    "        row_index+=1\n",
    "\n",
    "    algorithm_comparison.sort_values(by = ['mean_test_accuracy'], ascending = False, inplace = True)\n",
    "    \n",
    "    return algorithm_comparison"
   ]
  },
  {
   "cell_type": "code",
   "execution_count": 2,
   "metadata": {},
   "outputs": [
    {
     "ename": "NameError",
     "evalue": "name 'X' is not defined",
     "output_type": "error",
     "traceback": [
      "\u001b[0;31m---------------------------------------------------------------------------\u001b[0m",
      "\u001b[0;31mNameError\u001b[0m                                 Traceback (most recent call last)",
      "\u001b[0;32m<ipython-input-2-851c8f4a5b16>\u001b[0m in \u001b[0;36m<module>\u001b[0;34m\u001b[0m\n\u001b[0;32m----> 1\u001b[0;31m \u001b[0mmodel_selection\u001b[0m\u001b[0;34m(\u001b[0m\u001b[0mX\u001b[0m\u001b[0;34m,\u001b[0m\u001b[0my\u001b[0m\u001b[0;34m,\u001b[0m\u001b[0malgorithms\u001b[0m\u001b[0;34m)\u001b[0m\u001b[0;34m\u001b[0m\u001b[0;34m\u001b[0m\u001b[0m\n\u001b[0m",
      "\u001b[0;31mNameError\u001b[0m: name 'X' is not defined"
     ]
    }
   ],
   "source": [
    "model_selection(X,y,algorithms)"
   ]
  },
  {
   "cell_type": "markdown",
   "metadata": {},
   "source": [
    "After conducting the model selection, it is possible to conduct a hyperparameter search to improve the model performance even further. As this can be quite time consuming, it is recommended to take the default model parameter values."
   ]
  },
  {
   "cell_type": "markdown",
   "metadata": {},
   "source": [
    "## Train Final Model\n",
    "Before generating the final predictions, we want to train our model on **all** the data we have available."
   ]
  },
  {
   "cell_type": "code",
   "execution_count": 19,
   "metadata": {
    "collapsed": true
   },
   "outputs": [],
   "source": [
    "model = LinearSVC()"
   ]
  },
  {
   "cell_type": "code",
   "execution_count": 20,
   "metadata": {},
   "outputs": [
    {
     "data": {
      "text/plain": [
       "LinearSVC(C=1.0, class_weight=None, dual=True, fit_intercept=True,\n",
       "     intercept_scaling=1, loss='squared_hinge', max_iter=1000,\n",
       "     multi_class='ovr', penalty='l2', random_state=None, tol=0.0001,\n",
       "     verbose=0)"
      ]
     },
     "execution_count": 20,
     "metadata": {},
     "output_type": "execute_result"
    }
   ],
   "source": [
    "model.fit(X,y)"
   ]
  },
  {
   "cell_type": "markdown",
   "metadata": {},
   "source": [
    "# Prediction on Validation Set"
   ]
  },
  {
   "cell_type": "markdown",
   "metadata": {},
   "source": [
    "Finally, let's put our model to work and predict on the validation data."
   ]
  },
  {
   "cell_type": "code",
   "execution_count": 40,
   "metadata": {},
   "outputs": [
    {
     "name": "stdout",
     "output_type": "stream",
     "text": [
      "Number of Predictions: 140\n",
      "Prediction Contents: [2 2 4 2 2 4 2 4 4 4]\n"
     ]
    }
   ],
   "source": [
    "y_pred = model.predict(X_validation)\n",
    "\n",
    "print('Number of Predictions:',len(y_pred))\n",
    "print('Prediction Contents:',y_pred[:10])"
   ]
  },
  {
   "cell_type": "markdown",
   "metadata": {},
   "source": [
    "Save the predictions as a csv file and name it after your team, so they can be submitted for evaluation."
   ]
  },
  {
   "cell_type": "code",
   "execution_count": 22,
   "metadata": {
    "collapsed": true
   },
   "outputs": [],
   "source": [
    "pd.Series(y_pred).to_csv(data_directory / 'YOUR_TEAM_NAME.csv',sep=',',index=False)"
   ]
  },
  {
   "cell_type": "markdown",
   "metadata": {},
   "source": [
    "**Author**: Daniel Jaeck, Data Scientist at IBM (daniel.jaeck@de.ibm.com)\n",
    "\n",
    "Copyright © IBM Corp. 2018. This notebook and its source code are released under the terms of the MIT License."
   ]
  }
 ],
 "metadata": {
  "kernelspec": {
   "display_name": "Python 3",
   "language": "python",
   "name": "python3"
  },
  "language_info": {
   "codemirror_mode": {
    "name": "ipython",
    "version": 3
   },
   "file_extension": ".py",
   "mimetype": "text/x-python",
   "name": "python",
   "nbconvert_exporter": "python",
   "pygments_lexer": "ipython3",
   "version": "3.7.2"
  }
 },
 "nbformat": 4,
 "nbformat_minor": 2
}
